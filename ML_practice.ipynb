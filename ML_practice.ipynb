{
 "cells": [
  {
   "cell_type": "code",
   "execution_count": 2,
   "metadata": {},
   "outputs": [],
   "source": [
    "import pandas as pd"
   ]
  },
  {
   "cell_type": "code",
   "execution_count": 28,
   "metadata": {},
   "outputs": [],
   "source": [
    "sam=pd.read_csv('votingMachineAge.csv')"
   ]
  },
  {
   "cell_type": "code",
   "execution_count": 29,
   "metadata": {},
   "outputs": [
    {
     "data": {
      "text/html": [
       "<div>\n",
       "<style scoped>\n",
       "    .dataframe tbody tr th:only-of-type {\n",
       "        vertical-align: middle;\n",
       "    }\n",
       "\n",
       "    .dataframe tbody tr th {\n",
       "        vertical-align: top;\n",
       "    }\n",
       "\n",
       "    .dataframe thead th {\n",
       "        text-align: right;\n",
       "    }\n",
       "</style>\n",
       "<table border=\"1\" class=\"dataframe\">\n",
       "  <thead>\n",
       "    <tr style=\"text-align: right;\">\n",
       "      <th></th>\n",
       "      <th>fips_code</th>\n",
       "      <th>state</th>\n",
       "      <th>county</th>\n",
       "      <th>muni</th>\n",
       "      <th>first_year_range</th>\n",
       "      <th>equip_type</th>\n",
       "      <th>voting_machine</th>\n",
       "      <th>dre_paper_trail</th>\n",
       "      <th>mail_vote</th>\n",
       "    </tr>\n",
       "  </thead>\n",
       "  <tbody>\n",
       "    <tr>\n",
       "      <th>0</th>\n",
       "      <td>100100000</td>\n",
       "      <td>AL</td>\n",
       "      <td>Autauga County</td>\n",
       "      <td>NaN</td>\n",
       "      <td>2014 to 2016</td>\n",
       "      <td>Optical Scan</td>\n",
       "      <td>DS200</td>\n",
       "      <td>NaN</td>\n",
       "      <td>0.0</td>\n",
       "    </tr>\n",
       "    <tr>\n",
       "      <th>1</th>\n",
       "      <td>100300000</td>\n",
       "      <td>AL</td>\n",
       "      <td>Baldwin County</td>\n",
       "      <td>NaN</td>\n",
       "      <td>2014 to 2016</td>\n",
       "      <td>Optical Scan</td>\n",
       "      <td>DS200</td>\n",
       "      <td>NaN</td>\n",
       "      <td>0.0</td>\n",
       "    </tr>\n",
       "    <tr>\n",
       "      <th>2</th>\n",
       "      <td>100500000</td>\n",
       "      <td>AL</td>\n",
       "      <td>Barbour County</td>\n",
       "      <td>NaN</td>\n",
       "      <td>2014 to 2016</td>\n",
       "      <td>Optical Scan</td>\n",
       "      <td>DS200</td>\n",
       "      <td>NaN</td>\n",
       "      <td>0.0</td>\n",
       "    </tr>\n",
       "    <tr>\n",
       "      <th>3</th>\n",
       "      <td>100700000</td>\n",
       "      <td>AL</td>\n",
       "      <td>Bibb County</td>\n",
       "      <td>NaN</td>\n",
       "      <td>2008 or earlier</td>\n",
       "      <td>Optical Scan</td>\n",
       "      <td>Model 100</td>\n",
       "      <td>NaN</td>\n",
       "      <td>0.0</td>\n",
       "    </tr>\n",
       "    <tr>\n",
       "      <th>4</th>\n",
       "      <td>100900000</td>\n",
       "      <td>AL</td>\n",
       "      <td>Blount County</td>\n",
       "      <td>NaN</td>\n",
       "      <td>2014 to 2016</td>\n",
       "      <td>Optical Scan</td>\n",
       "      <td>DS200</td>\n",
       "      <td>NaN</td>\n",
       "      <td>0.0</td>\n",
       "    </tr>\n",
       "    <tr>\n",
       "      <th>5</th>\n",
       "      <td>101100000</td>\n",
       "      <td>AL</td>\n",
       "      <td>Bullock County</td>\n",
       "      <td>NaN</td>\n",
       "      <td>2014 to 2016</td>\n",
       "      <td>Optical Scan</td>\n",
       "      <td>DS200</td>\n",
       "      <td>NaN</td>\n",
       "      <td>0.0</td>\n",
       "    </tr>\n",
       "    <tr>\n",
       "      <th>6</th>\n",
       "      <td>101300000</td>\n",
       "      <td>AL</td>\n",
       "      <td>Butler County</td>\n",
       "      <td>NaN</td>\n",
       "      <td>2014 to 2016</td>\n",
       "      <td>Optical Scan</td>\n",
       "      <td>DS200</td>\n",
       "      <td>NaN</td>\n",
       "      <td>0.0</td>\n",
       "    </tr>\n",
       "    <tr>\n",
       "      <th>7</th>\n",
       "      <td>101500000</td>\n",
       "      <td>AL</td>\n",
       "      <td>Calhoun County</td>\n",
       "      <td>NaN</td>\n",
       "      <td>2014 to 2016</td>\n",
       "      <td>Optical Scan</td>\n",
       "      <td>DS200</td>\n",
       "      <td>NaN</td>\n",
       "      <td>0.0</td>\n",
       "    </tr>\n",
       "    <tr>\n",
       "      <th>8</th>\n",
       "      <td>101700000</td>\n",
       "      <td>AL</td>\n",
       "      <td>Chambers County</td>\n",
       "      <td>NaN</td>\n",
       "      <td>2008 or earlier</td>\n",
       "      <td>Optical Scan</td>\n",
       "      <td>Model 100</td>\n",
       "      <td>NaN</td>\n",
       "      <td>0.0</td>\n",
       "    </tr>\n",
       "    <tr>\n",
       "      <th>9</th>\n",
       "      <td>101900000</td>\n",
       "      <td>AL</td>\n",
       "      <td>Cherokee County</td>\n",
       "      <td>NaN</td>\n",
       "      <td>2014 to 2016</td>\n",
       "      <td>Optical Scan</td>\n",
       "      <td>DS200</td>\n",
       "      <td>NaN</td>\n",
       "      <td>0.0</td>\n",
       "    </tr>\n",
       "  </tbody>\n",
       "</table>\n",
       "</div>"
      ],
      "text/plain": [
       "   fips_code state           county muni first_year_range    equip_type  \\\n",
       "0  100100000    AL   Autauga County  NaN     2014 to 2016  Optical Scan   \n",
       "1  100300000    AL   Baldwin County  NaN     2014 to 2016  Optical Scan   \n",
       "2  100500000    AL   Barbour County  NaN     2014 to 2016  Optical Scan   \n",
       "3  100700000    AL      Bibb County  NaN  2008 or earlier  Optical Scan   \n",
       "4  100900000    AL    Blount County  NaN     2014 to 2016  Optical Scan   \n",
       "5  101100000    AL   Bullock County  NaN     2014 to 2016  Optical Scan   \n",
       "6  101300000    AL    Butler County  NaN     2014 to 2016  Optical Scan   \n",
       "7  101500000    AL   Calhoun County  NaN     2014 to 2016  Optical Scan   \n",
       "8  101700000    AL  Chambers County  NaN  2008 or earlier  Optical Scan   \n",
       "9  101900000    AL  Cherokee County  NaN     2014 to 2016  Optical Scan   \n",
       "\n",
       "  voting_machine dre_paper_trail  mail_vote  \n",
       "0          DS200             NaN        0.0  \n",
       "1          DS200             NaN        0.0  \n",
       "2          DS200             NaN        0.0  \n",
       "3      Model 100             NaN        0.0  \n",
       "4          DS200             NaN        0.0  \n",
       "5          DS200             NaN        0.0  \n",
       "6          DS200             NaN        0.0  \n",
       "7          DS200             NaN        0.0  \n",
       "8      Model 100             NaN        0.0  \n",
       "9          DS200             NaN        0.0  "
      ]
     },
     "execution_count": 29,
     "metadata": {},
     "output_type": "execute_result"
    }
   ],
   "source": [
    "sam.head(10)"
   ]
  },
  {
   "cell_type": "code",
   "execution_count": 14,
   "metadata": {},
   "outputs": [],
   "source": [
    "y=sam[['Leave']]"
   ]
  },
  {
   "cell_type": "code",
   "execution_count": 15,
   "metadata": {},
   "outputs": [],
   "source": [
    "x=sam[['Serial Number']]"
   ]
  },
  {
   "cell_type": "code",
   "execution_count": 17,
   "metadata": {},
   "outputs": [],
   "source": [
    "from sklearn.linear_model import LinearRegression"
   ]
  },
  {
   "cell_type": "code",
   "execution_count": 18,
   "metadata": {},
   "outputs": [],
   "source": [
    "from sklearn.model_selection import train_test_split"
   ]
  },
  {
   "cell_type": "code",
   "execution_count": 19,
   "metadata": {},
   "outputs": [],
   "source": [
    "x_train,x_test,y_train,y_test=train_test_split(x,y,test_size=0.3)"
   ]
  },
  {
   "cell_type": "code",
   "execution_count": 20,
   "metadata": {},
   "outputs": [],
   "source": [
    "# instance creation \n",
    "lr=LinearRegression()"
   ]
  },
  {
   "cell_type": "code",
   "execution_count": 21,
   "metadata": {},
   "outputs": [
    {
     "data": {
      "text/plain": [
       "LinearRegression(copy_X=True, fit_intercept=True, n_jobs=None, normalize=False)"
      ]
     },
     "execution_count": 21,
     "metadata": {},
     "output_type": "execute_result"
    }
   ],
   "source": [
    "lr.fit(x_train,y_train)"
   ]
  },
  {
   "cell_type": "code",
   "execution_count": 22,
   "metadata": {},
   "outputs": [],
   "source": [
    "y_pred=lr.predict(x_test)"
   ]
  },
  {
   "cell_type": "code",
   "execution_count": 23,
   "metadata": {},
   "outputs": [
    {
     "data": {
      "text/html": [
       "<div>\n",
       "<style scoped>\n",
       "    .dataframe tbody tr th:only-of-type {\n",
       "        vertical-align: middle;\n",
       "    }\n",
       "\n",
       "    .dataframe tbody tr th {\n",
       "        vertical-align: top;\n",
       "    }\n",
       "\n",
       "    .dataframe thead th {\n",
       "        text-align: right;\n",
       "    }\n",
       "</style>\n",
       "<table border=\"1\" class=\"dataframe\">\n",
       "  <thead>\n",
       "    <tr style=\"text-align: right;\">\n",
       "      <th></th>\n",
       "      <th>Leave</th>\n",
       "    </tr>\n",
       "  </thead>\n",
       "  <tbody>\n",
       "    <tr>\n",
       "      <th>374</th>\n",
       "      <td>0</td>\n",
       "    </tr>\n",
       "    <tr>\n",
       "      <th>1066</th>\n",
       "      <td>0</td>\n",
       "    </tr>\n",
       "    <tr>\n",
       "      <th>1923</th>\n",
       "      <td>1</td>\n",
       "    </tr>\n",
       "    <tr>\n",
       "      <th>1686</th>\n",
       "      <td>2</td>\n",
       "    </tr>\n",
       "    <tr>\n",
       "      <th>1264</th>\n",
       "      <td>0</td>\n",
       "    </tr>\n",
       "  </tbody>\n",
       "</table>\n",
       "</div>"
      ],
      "text/plain": [
       "      Leave\n",
       "374       0\n",
       "1066      0\n",
       "1923      1\n",
       "1686      2\n",
       "1264      0"
      ]
     },
     "execution_count": 23,
     "metadata": {},
     "output_type": "execute_result"
    }
   ],
   "source": [
    "y_test.head()"
   ]
  },
  {
   "cell_type": "code",
   "execution_count": 24,
   "metadata": {},
   "outputs": [
    {
     "data": {
      "text/plain": [
       "array([[1.01089303],\n",
       "       [1.01092009],\n",
       "       [1.0108931 ],\n",
       "       [1.01092017],\n",
       "       [1.01091932]])"
      ]
     },
     "execution_count": 24,
     "metadata": {},
     "output_type": "execute_result"
    }
   ],
   "source": [
    "y_pred[0:5]"
   ]
  },
  {
   "cell_type": "code",
   "execution_count": 25,
   "metadata": {},
   "outputs": [],
   "source": [
    "# for removing errors/residuals we import metrics\n",
    "from sklearn.metrics import mean_squared_error"
   ]
  },
  {
   "cell_type": "code",
   "execution_count": 26,
   "metadata": {},
   "outputs": [
    {
     "data": {
      "text/plain": [
       "3.367766218228496"
      ]
     },
     "execution_count": 26,
     "metadata": {},
     "output_type": "execute_result"
    }
   ],
   "source": [
    "mean_squared_error(y_test,y_pred)"
   ]
  },
  {
   "cell_type": "markdown",
   "metadata": {},
   "source": [
    "# Logistic regression"
   ]
  },
  {
   "cell_type": "code",
   "execution_count": 1,
   "metadata": {},
   "outputs": [
    {
     "data": {
      "text/html": [
       "<div>\n",
       "<style scoped>\n",
       "    .dataframe tbody tr th:only-of-type {\n",
       "        vertical-align: middle;\n",
       "    }\n",
       "\n",
       "    .dataframe tbody tr th {\n",
       "        vertical-align: top;\n",
       "    }\n",
       "\n",
       "    .dataframe thead th {\n",
       "        text-align: right;\n",
       "    }\n",
       "</style>\n",
       "<table border=\"1\" class=\"dataframe\">\n",
       "  <thead>\n",
       "    <tr style=\"text-align: right;\">\n",
       "      <th></th>\n",
       "      <th>Serial Number</th>\n",
       "      <th>Company Name</th>\n",
       "      <th>Employee Markme</th>\n",
       "      <th>Description</th>\n",
       "      <th>Leave</th>\n",
       "    </tr>\n",
       "  </thead>\n",
       "  <tbody>\n",
       "    <tr>\n",
       "      <th>0</th>\n",
       "      <td>9788189999599</td>\n",
       "      <td>TALES OF SHIVA</td>\n",
       "      <td>Mark</td>\n",
       "      <td>mark</td>\n",
       "      <td>0</td>\n",
       "    </tr>\n",
       "    <tr>\n",
       "      <th>1</th>\n",
       "      <td>9780099578079</td>\n",
       "      <td>1Q84 THE COMPLETE TRILOGY</td>\n",
       "      <td>HARUKI MURAKAMI</td>\n",
       "      <td>Mark</td>\n",
       "      <td>0</td>\n",
       "    </tr>\n",
       "    <tr>\n",
       "      <th>2</th>\n",
       "      <td>9780198082897</td>\n",
       "      <td>MY KUMAN</td>\n",
       "      <td>Mark</td>\n",
       "      <td>Mark</td>\n",
       "      <td>0</td>\n",
       "    </tr>\n",
       "    <tr>\n",
       "      <th>3</th>\n",
       "      <td>9780007880331</td>\n",
       "      <td>THE GOD OF SMAAL THINGS</td>\n",
       "      <td>ARUNDHATI ROY</td>\n",
       "      <td>4TH HARPER COLLINS</td>\n",
       "      <td>2</td>\n",
       "    </tr>\n",
       "    <tr>\n",
       "      <th>4</th>\n",
       "      <td>9780545060455</td>\n",
       "      <td>THE BLACK CIRCLE</td>\n",
       "      <td>Mark</td>\n",
       "      <td>4TH HARPER COLLINS</td>\n",
       "      <td>0</td>\n",
       "    </tr>\n",
       "    <tr>\n",
       "      <th>5</th>\n",
       "      <td>9788126525072</td>\n",
       "      <td>THE THREE LAWS OF PERFORMANCE</td>\n",
       "      <td>Mark</td>\n",
       "      <td>4TH HARPER COLLINS</td>\n",
       "      <td>0</td>\n",
       "    </tr>\n",
       "    <tr>\n",
       "      <th>6</th>\n",
       "      <td>9789381626610</td>\n",
       "      <td>CHAMarkKYA MANTRA</td>\n",
       "      <td>Mark</td>\n",
       "      <td>4TH HARPER COLLINS</td>\n",
       "      <td>0</td>\n",
       "    </tr>\n",
       "    <tr>\n",
       "      <th>7</th>\n",
       "      <td>9788184513523</td>\n",
       "      <td>59.FLAGS</td>\n",
       "      <td>Mark</td>\n",
       "      <td>4TH HARPER COLLINS</td>\n",
       "      <td>0</td>\n",
       "    </tr>\n",
       "    <tr>\n",
       "      <th>8</th>\n",
       "      <td>9780743234801</td>\n",
       "      <td>THE POWER OF POSITIVE THINKING FROM</td>\n",
       "      <td>Mark</td>\n",
       "      <td>A &amp; A PUBLISHER</td>\n",
       "      <td>0</td>\n",
       "    </tr>\n",
       "    <tr>\n",
       "      <th>9</th>\n",
       "      <td>9789381529621</td>\n",
       "      <td>YOU CAN IF YO THINK YO CAN</td>\n",
       "      <td>PEALE</td>\n",
       "      <td>A &amp; A PUBLISHER</td>\n",
       "      <td>0</td>\n",
       "    </tr>\n",
       "    <tr>\n",
       "      <th>10</th>\n",
       "      <td>9788183223966</td>\n",
       "      <td>DONGRI SE DUBAI TAK (MPH)</td>\n",
       "      <td>Mark</td>\n",
       "      <td>A &amp; A PUBLISHER</td>\n",
       "      <td>0</td>\n",
       "    </tr>\n",
       "    <tr>\n",
       "      <th>11</th>\n",
       "      <td>9788187776005</td>\n",
       "      <td>MarkLANDA ADYTAN KOSH</td>\n",
       "      <td>Mark</td>\n",
       "      <td>AADISH BOOK DEPOT</td>\n",
       "      <td>0</td>\n",
       "    </tr>\n",
       "    <tr>\n",
       "      <th>12</th>\n",
       "      <td>9788187776013</td>\n",
       "      <td>MarkLANDA VISHAL SHABD SAGAR</td>\n",
       "      <td>-</td>\n",
       "      <td>AADISH BOOK DEPOT</td>\n",
       "      <td>1</td>\n",
       "    </tr>\n",
       "    <tr>\n",
       "      <th>13</th>\n",
       "      <td>8187776021</td>\n",
       "      <td>MarkLANDA CONCISE DICT(ENG TO HINDI)</td>\n",
       "      <td>Mark</td>\n",
       "      <td>AADISH BOOK DEPOT</td>\n",
       "      <td>0</td>\n",
       "    </tr>\n",
       "    <tr>\n",
       "      <th>14</th>\n",
       "      <td>9789384716165</td>\n",
       "      <td>LIEUTEMarkMarkT GENERAL BHAGAT: A SAGA OF BRAV...</td>\n",
       "      <td>Mark</td>\n",
       "      <td>AAM COMICS</td>\n",
       "      <td>2</td>\n",
       "    </tr>\n",
       "    <tr>\n",
       "      <th>15</th>\n",
       "      <td>9789384716233</td>\n",
       "      <td>LN. MarkIK SUNDER SINGH</td>\n",
       "      <td>N.A</td>\n",
       "      <td>AAN COMICS</td>\n",
       "      <td>0</td>\n",
       "    </tr>\n",
       "    <tr>\n",
       "      <th>16</th>\n",
       "      <td>9789384850319</td>\n",
       "      <td>I AM KRISHMark</td>\n",
       "      <td>DEEP TRIVEDI</td>\n",
       "      <td>AATMAN INNOVATIONS PVT LTD</td>\n",
       "      <td>1</td>\n",
       "    </tr>\n",
       "    <tr>\n",
       "      <th>17</th>\n",
       "      <td>9789384850357</td>\n",
       "      <td>DON'T TEACH ME TOLERANCE INDIA</td>\n",
       "      <td>DEEP TRIVEDI</td>\n",
       "      <td>AATMAN INNOVATIONS PVT LTD</td>\n",
       "      <td>0</td>\n",
       "    </tr>\n",
       "    <tr>\n",
       "      <th>18</th>\n",
       "      <td>9789384850364</td>\n",
       "      <td>MUJHE SAHISHNUTA MAT SIKHAO BHARAT</td>\n",
       "      <td>DEEP TRIVEDI</td>\n",
       "      <td>AATMAN INNOVATIONS PVT LTD</td>\n",
       "      <td>0</td>\n",
       "    </tr>\n",
       "    <tr>\n",
       "      <th>19</th>\n",
       "      <td>9789384850746</td>\n",
       "      <td>SECRETS OF DESTINY</td>\n",
       "      <td>DEEP TRIVEDI</td>\n",
       "      <td>AATMAN INNOVATIONS PVT LTD</td>\n",
       "      <td>1</td>\n",
       "    </tr>\n",
       "  </tbody>\n",
       "</table>\n",
       "</div>"
      ],
      "text/plain": [
       "    Serial Number                                       Company Name  \\\n",
       "0   9788189999599                                     TALES OF SHIVA   \n",
       "1   9780099578079                          1Q84 THE COMPLETE TRILOGY   \n",
       "2   9780198082897                                           MY KUMAN   \n",
       "3   9780007880331                            THE GOD OF SMAAL THINGS   \n",
       "4   9780545060455                                   THE BLACK CIRCLE   \n",
       "5   9788126525072                      THE THREE LAWS OF PERFORMANCE   \n",
       "6   9789381626610                                  CHAMarkKYA MANTRA   \n",
       "7   9788184513523                                           59.FLAGS   \n",
       "8   9780743234801                THE POWER OF POSITIVE THINKING FROM   \n",
       "9   9789381529621                         YOU CAN IF YO THINK YO CAN   \n",
       "10  9788183223966                          DONGRI SE DUBAI TAK (MPH)   \n",
       "11  9788187776005                              MarkLANDA ADYTAN KOSH   \n",
       "12  9788187776013                       MarkLANDA VISHAL SHABD SAGAR   \n",
       "13     8187776021               MarkLANDA CONCISE DICT(ENG TO HINDI)   \n",
       "14  9789384716165  LIEUTEMarkMarkT GENERAL BHAGAT: A SAGA OF BRAV...   \n",
       "15  9789384716233                            LN. MarkIK SUNDER SINGH   \n",
       "16  9789384850319                                     I AM KRISHMark   \n",
       "17  9789384850357                     DON'T TEACH ME TOLERANCE INDIA   \n",
       "18  9789384850364                 MUJHE SAHISHNUTA MAT SIKHAO BHARAT   \n",
       "19  9789384850746                                 SECRETS OF DESTINY   \n",
       "\n",
       "    Employee Markme                 Description  Leave  \n",
       "0              Mark                        mark      0  \n",
       "1   HARUKI MURAKAMI                        Mark      0  \n",
       "2              Mark                        Mark      0  \n",
       "3     ARUNDHATI ROY          4TH HARPER COLLINS      2  \n",
       "4              Mark          4TH HARPER COLLINS      0  \n",
       "5              Mark          4TH HARPER COLLINS      0  \n",
       "6              Mark          4TH HARPER COLLINS      0  \n",
       "7              Mark          4TH HARPER COLLINS      0  \n",
       "8              Mark             A & A PUBLISHER      0  \n",
       "9             PEALE             A & A PUBLISHER      0  \n",
       "10             Mark             A & A PUBLISHER      0  \n",
       "11             Mark           AADISH BOOK DEPOT      0  \n",
       "12                -           AADISH BOOK DEPOT      1  \n",
       "13             Mark           AADISH BOOK DEPOT      0  \n",
       "14             Mark                  AAM COMICS      2  \n",
       "15              N.A                  AAN COMICS      0  \n",
       "16     DEEP TRIVEDI  AATMAN INNOVATIONS PVT LTD      1  \n",
       "17     DEEP TRIVEDI  AATMAN INNOVATIONS PVT LTD      0  \n",
       "18     DEEP TRIVEDI  AATMAN INNOVATIONS PVT LTD      0  \n",
       "19     DEEP TRIVEDI  AATMAN INNOVATIONS PVT LTD      1  "
      ]
     },
     "execution_count": 1,
     "metadata": {},
     "output_type": "execute_result"
    }
   ],
   "source": [
    "import pandas as pd\n",
    "data =pd.read_csv('Sample2000.csv')\n",
    "data.head(20)"
   ]
  },
  {
   "cell_type": "code",
   "execution_count": 2,
   "metadata": {},
   "outputs": [],
   "source": [
    "x=data[['Employee Markme']]\n",
    "y=data[['Leave']]"
   ]
  },
  {
   "cell_type": "code",
   "execution_count": 3,
   "metadata": {},
   "outputs": [],
   "source": [
    "from sklearn.linear_model import LogisticRegression"
   ]
  },
  {
   "cell_type": "code",
   "execution_count": 4,
   "metadata": {},
   "outputs": [],
   "source": [
    "log_model=LogisticRegression"
   ]
  },
  {
   "cell_type": "code",
   "execution_count": 5,
   "metadata": {},
   "outputs": [],
   "source": [
    "from sklearn.model_selection import train_test_split"
   ]
  },
  {
   "cell_type": "code",
   "execution_count": 6,
   "metadata": {},
   "outputs": [],
   "source": [
    "x_train,x_test,y_train,y_test=train_test_split(x,y,test_size=0.35)"
   ]
  },
  {
   "cell_type": "code",
   "execution_count": 7,
   "metadata": {},
   "outputs": [
    {
     "ename": "TypeError",
     "evalue": "fit() missing 1 required positional argument: 'y'",
     "output_type": "error",
     "traceback": [
      "\u001b[1;31m---------------------------------------------------------------------------\u001b[0m",
      "\u001b[1;31mTypeError\u001b[0m                                 Traceback (most recent call last)",
      "\u001b[1;32m<ipython-input-7-e18ec7dd9c11>\u001b[0m in \u001b[0;36m<module>\u001b[1;34m\u001b[0m\n\u001b[1;32m----> 1\u001b[1;33m \u001b[0mlog_model\u001b[0m\u001b[1;33m.\u001b[0m\u001b[0mfit\u001b[0m\u001b[1;33m(\u001b[0m\u001b[0mx_train\u001b[0m\u001b[1;33m,\u001b[0m\u001b[0my_train\u001b[0m\u001b[1;33m)\u001b[0m\u001b[1;33m\u001b[0m\u001b[1;33m\u001b[0m\u001b[0m\n\u001b[0m",
      "\u001b[1;31mTypeError\u001b[0m: fit() missing 1 required positional argument: 'y'"
     ]
    }
   ],
   "source": [
    "log_model.fit(x_train,y_train)"
   ]
  },
  {
   "cell_type": "code",
   "execution_count": 18,
   "metadata": {},
   "outputs": [
    {
     "ename": "TypeError",
     "evalue": "predict() missing 1 required positional argument: 'X'",
     "output_type": "error",
     "traceback": [
      "\u001b[1;31m---------------------------------------------------------------------------\u001b[0m",
      "\u001b[1;31mTypeError\u001b[0m                                 Traceback (most recent call last)",
      "\u001b[1;32m<ipython-input-18-bd7e1ab10149>\u001b[0m in \u001b[0;36m<module>\u001b[1;34m\u001b[0m\n\u001b[1;32m----> 1\u001b[1;33m \u001b[0my_pred\u001b[0m\u001b[1;33m=\u001b[0m\u001b[0mlog_model\u001b[0m\u001b[1;33m.\u001b[0m\u001b[0mpredict\u001b[0m\u001b[1;33m(\u001b[0m\u001b[0mx_test\u001b[0m\u001b[1;33m)\u001b[0m\u001b[1;33m\u001b[0m\u001b[1;33m\u001b[0m\u001b[0m\n\u001b[0m",
      "\u001b[1;31mTypeError\u001b[0m: predict() missing 1 required positional argument: 'X'"
     ]
    }
   ],
   "source": [
    "y_pred=log_model.predict(x_test)"
   ]
  },
  {
   "cell_type": "code",
   "execution_count": 9,
   "metadata": {},
   "outputs": [
    {
     "data": {
      "text/html": [
       "<div>\n",
       "<style scoped>\n",
       "    .dataframe tbody tr th:only-of-type {\n",
       "        vertical-align: middle;\n",
       "    }\n",
       "\n",
       "    .dataframe tbody tr th {\n",
       "        vertical-align: top;\n",
       "    }\n",
       "\n",
       "    .dataframe thead th {\n",
       "        text-align: right;\n",
       "    }\n",
       "</style>\n",
       "<table border=\"1\" class=\"dataframe\">\n",
       "  <thead>\n",
       "    <tr style=\"text-align: right;\">\n",
       "      <th></th>\n",
       "      <th>Leave</th>\n",
       "    </tr>\n",
       "  </thead>\n",
       "  <tbody>\n",
       "    <tr>\n",
       "      <th>1097</th>\n",
       "      <td>0</td>\n",
       "    </tr>\n",
       "    <tr>\n",
       "      <th>1537</th>\n",
       "      <td>0</td>\n",
       "    </tr>\n",
       "    <tr>\n",
       "      <th>710</th>\n",
       "      <td>7</td>\n",
       "    </tr>\n",
       "    <tr>\n",
       "      <th>433</th>\n",
       "      <td>0</td>\n",
       "    </tr>\n",
       "    <tr>\n",
       "      <th>959</th>\n",
       "      <td>0</td>\n",
       "    </tr>\n",
       "  </tbody>\n",
       "</table>\n",
       "</div>"
      ],
      "text/plain": [
       "      Leave\n",
       "1097      0\n",
       "1537      0\n",
       "710       7\n",
       "433       0\n",
       "959       0"
      ]
     },
     "execution_count": 9,
     "metadata": {},
     "output_type": "execute_result"
    }
   ],
   "source": [
    "y_train.head()"
   ]
  },
  {
   "cell_type": "code",
   "execution_count": 10,
   "metadata": {},
   "outputs": [
    {
     "ename": "NameError",
     "evalue": "name 'y_pred' is not defined",
     "output_type": "error",
     "traceback": [
      "\u001b[1;31m---------------------------------------------------------------------------\u001b[0m",
      "\u001b[1;31mNameError\u001b[0m                                 Traceback (most recent call last)",
      "\u001b[1;32m<ipython-input-10-a47992a20af6>\u001b[0m in \u001b[0;36m<module>\u001b[1;34m\u001b[0m\n\u001b[1;32m----> 1\u001b[1;33m \u001b[0my_pred\u001b[0m\u001b[1;33m[\u001b[0m\u001b[1;36m0\u001b[0m\u001b[1;33m:\u001b[0m\u001b[1;36m5\u001b[0m\u001b[1;33m]\u001b[0m\u001b[1;33m\u001b[0m\u001b[1;33m\u001b[0m\u001b[0m\n\u001b[0m",
      "\u001b[1;31mNameError\u001b[0m: name 'y_pred' is not defined"
     ]
    }
   ],
   "source": [
    "y_pred[0:5]"
   ]
  },
  {
   "cell_type": "code",
   "execution_count": 11,
   "metadata": {},
   "outputs": [],
   "source": [
    "from sklearn.metrics import confusion_matrix"
   ]
  },
  {
   "cell_type": "code",
   "execution_count": 1,
   "metadata": {},
   "outputs": [
    {
     "ename": "NameError",
     "evalue": "name 'confusion_matrix' is not defined",
     "output_type": "error",
     "traceback": [
      "\u001b[1;31m---------------------------------------------------------------------------\u001b[0m",
      "\u001b[1;31mNameError\u001b[0m                                 Traceback (most recent call last)",
      "\u001b[1;32m<ipython-input-1-e5b86ff07486>\u001b[0m in \u001b[0;36m<module>\u001b[1;34m\u001b[0m\n\u001b[1;32m----> 1\u001b[1;33m \u001b[0mconfusion_matrix\u001b[0m\u001b[1;33m(\u001b[0m\u001b[0my_test\u001b[0m\u001b[1;33m,\u001b[0m\u001b[0my_pred\u001b[0m\u001b[1;33m)\u001b[0m\u001b[1;33m\u001b[0m\u001b[1;33m\u001b[0m\u001b[0m\n\u001b[0m",
      "\u001b[1;31mNameError\u001b[0m: name 'confusion_matrix' is not defined"
     ]
    }
   ],
   "source": [
    "confusion_matrix(y_test,y_pred)\n"
   ]
  },
  {
   "cell_type": "code",
   "execution_count": null,
   "metadata": {},
   "outputs": [],
   "source": [
    "# accuracy=leftDiagonal/TotalSum"
   ]
  }
 ],
 "metadata": {
  "kernelspec": {
   "display_name": "Python 3",
   "language": "python",
   "name": "python3"
  },
  "language_info": {
   "codemirror_mode": {
    "name": "ipython",
    "version": 3
   },
   "file_extension": ".py",
   "mimetype": "text/x-python",
   "name": "python",
   "nbconvert_exporter": "python",
   "pygments_lexer": "ipython3",
   "version": "3.7.6"
  }
 },
 "nbformat": 4,
 "nbformat_minor": 2
}
